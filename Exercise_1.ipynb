{
  "nbformat": 4,
  "nbformat_minor": 0,
  "metadata": {
    "colab": {
      "provenance": [],
      "authorship_tag": "ABX9TyN3AYauvlx1+0XG+H2/m4mB",
      "include_colab_link": true
    },
    "kernelspec": {
      "name": "python3",
      "display_name": "Python 3"
    },
    "language_info": {
      "name": "python"
    }
  },
  "cells": [
    {
      "cell_type": "markdown",
      "metadata": {
        "id": "view-in-github",
        "colab_type": "text"
      },
      "source": [
        "<a href=\"https://colab.research.google.com/github/annazolina281/OOP-CPE009B-Cpe21s4/blob/main/Exercise_1.ipynb\" target=\"_parent\"><img src=\"https://colab.research.google.com/assets/colab-badge.svg\" alt=\"Open In Colab\"/></a>"
      ]
    },
    {
      "cell_type": "code",
      "execution_count": null,
      "metadata": {
        "id": "Mt72eKqYTpSa"
      },
      "outputs": [],
      "source": [
        "#Class Constructor\n",
        "class Number:\n",
        "  def init__(self,x):\n",
        "    self.x = 1\n",
        "    print(self.x)\n"
      ]
    },
    {
      "cell_type": "code",
      "source": [
        "#Class Constructor\n",
        "class Person:\n",
        "  def __init__(self, name, age, birthdate):\n",
        "    self.name = name\n",
        "    self.age = age\n",
        "    self.birthdate = birthdate    #defining attributes and identity\n",
        "\n",
        "  def person_attribute(self):      #method constructor\n",
        "    return f\"My name is {self.name} and with an age of {self.age} and birthdate of {self.birthdate}\"\n",
        "\n",
        "class Teacher(Person): #subclass constructor\n",
        "  pass\n",
        "class Student(Person):\n",
        "  pass    #subclass constructor\n",
        "\n",
        "#object instantiation\n",
        "person = Person(\"Ana\", 19, \"January 3, 2005\")\n",
        "print(person.person_attribute())\n",
        "student = Student(\"Mark\", 20 ,\"April 7, 2004\")\n",
        "print(student.person_attribute())\n",
        "teacher = Teacher(\"Christine\", 26, \"September 9, 1998\")\n",
        "print(teacher.person_attribute())"
      ],
      "metadata": {
        "colab": {
          "base_uri": "https://localhost:8080/"
        },
        "id": "98WF-eTyISvF",
        "outputId": "17fef32d-9c2b-4d3e-d922-6f680706fbdc"
      },
      "execution_count": 1,
      "outputs": [
        {
          "output_type": "stream",
          "name": "stdout",
          "text": [
            "My name is Ana and with an age of 19 and birthdate of January 3, 2005\n",
            "My name is Mark and with an age of 20 and birthdate of April 7, 2004\n",
            "My name is Christine and with an age of 26 and birthdate of September 9, 1998\n"
          ]
        }
      ]
    },
    {
      "cell_type": "code",
      "source": [
        "#Challenge 1\n",
        "\n",
        "#1. Superclass named as shapes\n",
        "class Shapes():\n",
        "  def __init__(self, length = 0, width = 0, side = 0):\n",
        "#5. Inherit the attributes of superclass shapes\n",
        "    self.length = length\n",
        "    self.width = width\n",
        "    self.side = side\n",
        "\n",
        "class Rectangle (Shapes):                 #2. Subclasses for Rectangle\n",
        "    def perimeter_rectangle(self):        #3. A Methods of Perimeter (Rectangle)\n",
        "      return 2 * (self.length + self.width)\n",
        "\n",
        "    def area_rectangle(self):             #3. A Methods of Area (Rectangle)\n",
        "      return self.length * self.width\n",
        "\n",
        "class Square (Shapes):                    #2. Subclasses for Square\n",
        "   def perimeter_square(self):            #3. B Methods of Perimeter (Square)\n",
        "    return 4 * self.side\n",
        "\n",
        "   def area_square(self):                 #3. B Methods of Area (Square)\n",
        "    return self.side ** 2\n",
        "\n",
        "#4. Object Name for Rectangle and Square\n",
        "rectangle = Rectangle(length = 6, width = 4)\n",
        "square = Square(side = 4)\n",
        "\n",
        "print(f\"The perimeter of Rectangle is: {rectangle.perimeter_rectangle()}\")\n",
        "print(f\"The area of Rectangle is: {rectangle.area_rectangle()}\")\n",
        "print(f\"The perimeter of Square is {square.perimeter_square()}\")\n",
        "print(f\"The area of Square is: {square.area_square()}\")\n"
      ],
      "metadata": {
        "colab": {
          "base_uri": "https://localhost:8080/"
        },
        "id": "0Eg8Jx69T5po",
        "outputId": "49751057-3d5c-48aa-a12e-2b0fe28c8619"
      },
      "execution_count": 12,
      "outputs": [
        {
          "output_type": "stream",
          "name": "stdout",
          "text": [
            "The perimeter of Rectangle is: 20\n",
            "The area of Rectangle is: 24\n",
            "The perimeter of Square is 16\n",
            "The area of Square is: 16\n"
          ]
        }
      ]
    }
  ]
}
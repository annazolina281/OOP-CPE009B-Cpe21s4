{
  "nbformat": 4,
  "nbformat_minor": 0,
  "metadata": {
    "colab": {
      "provenance": [],
      "authorship_tag": "ABX9TyPBstUAvIALANq48Z9zhpz0",
      "include_colab_link": true
    },
    "kernelspec": {
      "name": "python3",
      "display_name": "Python 3"
    },
    "language_info": {
      "name": "python"
    }
  },
  "cells": [
    {
      "cell_type": "markdown",
      "metadata": {
        "id": "view-in-github",
        "colab_type": "text"
      },
      "source": [
        "<a href=\"https://colab.research.google.com/github/annazolina281/OOP-CPE009B-Cpe21s4/blob/main/Laboratory_Activity_3_Inheritance%2C_Encapsulation%2C_and_Abstraction.ipynb\" target=\"_parent\"><img src=\"https://colab.research.google.com/assets/colab-badge.svg\" alt=\"Open In Colab\"/></a>"
      ]
    },
    {
      "cell_type": "markdown",
      "source": [
        "Create a program in python that satisfies the following:\n",
        "\n",
        " Inheritance, Encapsulation, and Abstraction concept with ADT list\n",
        "Class(Employee: emp_id. emp_name, emp_address, Fulltime: allowance, rate, PartTime: rate)\n",
        "Class(Salary: salary_id, Salary, cut_off_date, days_of_work)"
      ],
      "metadata": {
        "id": "FxTk2bGjppL8"
      }
    },
    {
      "cell_type": "code",
      "source": [
        "# Base class for Employee.\n",
        "class Employee:\n",
        "    def __init__(self, emp_id, emp_name, emp_address):\n",
        "        # Initialize employee ID, name, and address\n",
        "        self.__emp_id = emp_id\n",
        "        self.__emp_name = emp_name\n",
        "        self.__emp_address = emp_address\n",
        "\n",
        "    def get_details(self):\n",
        "        # Return employee details (ID, name, and address)\n",
        "        return self.__emp_id, self.__emp_name, self.__emp_address\n",
        "\n",
        "    def calculate_salary(self, days_of_work):\n",
        "        # Abstract method for calculating salary (to be implemented in subclasses)\n",
        "        pass\n",
        "\n",
        "# Full-time Employee class.\n",
        "class FullTime(Employee):\n",
        "    def __init__(self, emp_id, emp_name, emp_address, allowance, rate):\n",
        "        # Initialize full-time employee with allowance and rate\n",
        "        super().__init__(emp_id, emp_name, emp_address)\n",
        "        self.__allowance = allowance\n",
        "        self.__rate = rate\n",
        "\n",
        "    def calculate_salary(self, days_of_work):\n",
        "        # Calculate salary based on days worked, rate, and allowance\n",
        "        return (self.__rate * days_of_work) + self.__allowance\n",
        "\n",
        "    def get_details(self):\n",
        "        # Return full-time employee details including allowance and rate\n",
        "        emp_id, emp_name, emp_address = super().get_details()\n",
        "        return emp_id, emp_name, emp_address, self.__allowance, self.__rate\n",
        "\n",
        "# Part-time Employee class.\n",
        "class PartTime(Employee):\n",
        "    def __init__(self, emp_id, emp_name, emp_address, rate):\n",
        "        # Initialize part-time employee with rate\n",
        "        super().__init__(emp_id, emp_name, emp_address)\n",
        "        self.__rate = rate\n",
        "\n",
        "    def calculate_salary(self, days_of_work):\n",
        "        # Calculate salary based on days worked and rate\n",
        "        return self.__rate * days_of_work\n",
        "\n",
        "    def get_details(self):\n",
        "        # Return part-time employee details including rate\n",
        "        emp_id, emp_name, emp_address = super().get_details()\n",
        "        return emp_id, emp_name, emp_address, None, self.__rate\n",
        "\n",
        "# Salary class.\n",
        "class Salary:\n",
        "    def __init__(self, salary_id, cut_off_date, days_of_work):\n",
        "        # Initialize salary details including cutoff date and days of work\n",
        "        self.__salary_id = salary_id\n",
        "        self.__cut_off_date = cut_off_date\n",
        "        self.__days_of_work = days_of_work\n",
        "\n",
        "    def calculate_salary(self, employee):\n",
        "        # Calculate salary for the given employee based on days worked\n",
        "        return employee.calculate_salary(self.__days_of_work)\n",
        "\n",
        "# Example usage\n",
        "employees = [\n",
        "    FullTime(1, \"Dorian\", \"123 Main St\", 500, 100),  # Create a full-time employee\n",
        "    PartTime(2, \"Basil\", \"456 Elm St\", 75)            # Create a part-time employee\n",
        "]\n",
        "salaries = [Salary(1, \"2024-09-30\", 20), Salary(2, \"2024-09-30\", 15)]  # Create salary records\n",
        "\n",
        "# Print employee details and salary.\n",
        "for emp, sal in zip(employees, salaries):\n",
        "    emp_id, emp_name, emp_address, allowance, rate = emp.get_details()\n",
        "    salary = sal.calculate_salary(emp)\n",
        "    print(\"Employee Details:\")\n",
        "    print(\" ID:\", emp_id)\n",
        "    print(\" Name:\", emp_name)\n",
        "    print(\" Address:\", emp_address)\n",
        "    print(\" Allowance:\", allowance if allowance is not None else 'N/A')\n",
        "    print(\" Rate:\", rate)\n",
        "    print(\" Salary:\", salary)\n"
      ],
      "metadata": {
        "colab": {
          "base_uri": "https://localhost:8080/",
          "height": 0
        },
        "id": "P7oeFrT9kF0I",
        "outputId": "16f42775-3bcb-4b88-d7d9-56deb1912f34"
      },
      "execution_count": 11,
      "outputs": [
        {
          "output_type": "stream",
          "name": "stdout",
          "text": [
            "Employee Details:\n",
            " ID: 1\n",
            " Name: Dorian\n",
            " Address: 123 Main St\n",
            " Allowance: 500\n",
            " Rate: 100\n",
            " Salary: 2500\n",
            "Employee Details:\n",
            " ID: 2\n",
            " Name: Basil\n",
            " Address: 456 Elm St\n",
            " Allowance: N/A\n",
            " Rate: 75\n",
            " Salary: 1125\n"
          ]
        }
      ]
    }
  ]
}